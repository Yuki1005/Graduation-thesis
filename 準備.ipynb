{
 "cells": [
  {
   "cell_type": "code",
   "execution_count": 1,
   "metadata": {},
   "outputs": [],
   "source": [
    "import csv\n",
    "import numpy as np\n",
    "import pandas as pd\n",
    "import itertools\n",
    "import folium\n",
    "import time\n",
    "import openrouteservice as ors\n",
    "import sys\n",
    "import urllib.parse\n",
    "import pulp\n",
    "import datetime"
   ]
  },
  {
   "cell_type": "code",
   "execution_count": 2,
   "metadata": {},
   "outputs": [
    {
     "name": "stdout",
     "output_type": "stream",
     "text": [
      "0 1 4969.9\n",
      "0 2 4332.1\n",
      "0 3 4617.9\n",
      "0 5 4270.1\n",
      "0 6 4021.4\n",
      "0 7 4366.5\n",
      "0 8 4772.3\n",
      "1 2 2900.7\n",
      "1 3 3503.0\n",
      "1 5 2900.8\n",
      "1 6 2652.1\n",
      "1 7 2935.1\n",
      "1 8 3327.4\n",
      "2 1 2888.2\n",
      "2 3 1542.8\n",
      "2 5 1981.7\n",
      "2 6 2037.9\n",
      "2 7 34.4\n",
      "2 8 656.9\n",
      "3 1 3579.9\n",
      "3 2 1651.7\n",
      "3 5 770.7\n",
      "3 6 1053.1\n",
      "3 7 1638.3\n",
      "3 8 1313.5\n"
     ]
    },
    {
     "name": "stderr",
     "output_type": "stream",
     "text": [
      "c:\\Users\\yhira\\anaconda3\\envs\\only-pip\\Lib\\site-packages\\openrouteservice\\client.py:211: UserWarning: Rate limit exceeded. Retrying for the 1st time.\n",
      "  warnings.warn('Rate limit exceeded. Retrying for the {0}{1} time.'.format(retry_counter + 1,\n",
      "c:\\Users\\yhira\\anaconda3\\envs\\only-pip\\Lib\\site-packages\\openrouteservice\\client.py:211: UserWarning: Rate limit exceeded. Retrying for the 2nd time.\n",
      "  warnings.warn('Rate limit exceeded. Retrying for the {0}{1} time.'.format(retry_counter + 1,\n",
      "c:\\Users\\yhira\\anaconda3\\envs\\only-pip\\Lib\\site-packages\\openrouteservice\\client.py:211: UserWarning: Rate limit exceeded. Retrying for the 3rd time.\n",
      "  warnings.warn('Rate limit exceeded. Retrying for the {0}{1} time.'.format(retry_counter + 1,\n",
      "c:\\Users\\yhira\\anaconda3\\envs\\only-pip\\Lib\\site-packages\\openrouteservice\\client.py:211: UserWarning: Rate limit exceeded. Retrying for the 4th time.\n",
      "  warnings.warn('Rate limit exceeded. Retrying for the {0}{1} time.'.format(retry_counter + 1,\n",
      "c:\\Users\\yhira\\anaconda3\\envs\\only-pip\\Lib\\site-packages\\openrouteservice\\client.py:211: UserWarning: Rate limit exceeded. Retrying for the 5th time.\n",
      "  warnings.warn('Rate limit exceeded. Retrying for the {0}{1} time.'.format(retry_counter + 1,\n",
      "c:\\Users\\yhira\\anaconda3\\envs\\only-pip\\Lib\\site-packages\\openrouteservice\\client.py:211: UserWarning: Rate limit exceeded. Retrying for the 6th time.\n",
      "  warnings.warn('Rate limit exceeded. Retrying for the {0}{1} time.'.format(retry_counter + 1,\n",
      "c:\\Users\\yhira\\anaconda3\\envs\\only-pip\\Lib\\site-packages\\openrouteservice\\client.py:211: UserWarning: Rate limit exceeded. Retrying for the 7th time.\n",
      "  warnings.warn('Rate limit exceeded. Retrying for the {0}{1} time.'.format(retry_counter + 1,\n",
      "c:\\Users\\yhira\\anaconda3\\envs\\only-pip\\Lib\\site-packages\\openrouteservice\\client.py:211: UserWarning: Rate limit exceeded. Retrying for the 8th time.\n",
      "  warnings.warn('Rate limit exceeded. Retrying for the {0}{1} time.'.format(retry_counter + 1,\n"
     ]
    },
    {
     "name": "stdout",
     "output_type": "stream",
     "text": [
      "5 1 2895.7\n",
      "5 2 1981.6\n",
      "5 3 661.7\n",
      "5 6 341.9\n",
      "5 7 1968.2\n",
      "5 8 1643.3\n",
      "6 1 2647.1\n",
      "6 2 2035.2\n",
      "6 3 944.1\n",
      "6 5 341.9\n",
      "6 7 2069.6\n",
      "6 8 1925.7\n",
      "7 1 2922.6\n",
      "7 2 34.4\n",
      "7 3 1529.5\n",
      "7 5 1968.3\n",
      "7 6 2072.4\n",
      "7 8 643.6\n",
      "8 1 3208.4\n",
      "8 2 654.5\n",
      "8 3 1204.5\n",
      "8 5 1643.3\n",
      "8 6 1925.7\n",
      "8 7 641.1\n"
     ]
    }
   ],
   "source": [
    "tfr_list = pd.read_csv(\"test2.csv\")\n",
    "place_list = tfr_list.to_numpy().tolist()\n",
    "\n",
    "datalist = []\n",
    "\n",
    "ors_key = \"5b3ce3597851110001cf624804ffaeec7cd246038d01eb4d3a32f633\"\n",
    "ors_boot = ors.Client(ors_key)\n",
    "\n",
    "for i in range(len(place_list)):\n",
    "    pos_1 = float(place_list[i][1]),float(place_list[i][2])\n",
    "    for j in range(1,len(place_list)):\n",
    "        pos_2 = float(place_list[j][1]),float(place_list[j][2])\n",
    "        p1r = tuple(reversed(pos_1))\n",
    "        p2r = tuple(reversed(pos_2))\n",
    "        \n",
    "        try:\n",
    "            route_rslt = ors_boot.directions((p1r,p2r),profile = \"driving-car\")\n",
    "            datalist.append([i,j,float(route_rslt[\"routes\"][0][\"summary\"][\"duration\"])])\n",
    "            print(i,j,float(route_rslt[\"routes\"][0][\"summary\"][\"duration\"]))\n",
    "        except:\n",
    "            pass\n",
    "tfr_time = pd.DataFrame(datalist, columns=[\"出発地点\",\"行先\",\"移動時間[s]\"])\n",
    "\n",
    "tfr_time.to_csv(\"time2.csv\",index=0)"
   ]
  }
 ],
 "metadata": {
  "kernelspec": {
   "display_name": "only-pip",
   "language": "python",
   "name": "python3"
  },
  "language_info": {
   "codemirror_mode": {
    "name": "ipython",
    "version": 3
   },
   "file_extension": ".py",
   "mimetype": "text/x-python",
   "name": "python",
   "nbconvert_exporter": "python",
   "pygments_lexer": "ipython3",
   "version": "3.11.3"
  }
 },
 "nbformat": 4,
 "nbformat_minor": 2
}
