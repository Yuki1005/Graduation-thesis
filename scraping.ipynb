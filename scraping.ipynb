{
 "cells": [
  {
   "cell_type": "code",
   "execution_count": 13,
   "metadata": {},
   "outputs": [
    {
     "name": "stdout",
     "output_type": "stream",
     "text": [
      "1 時間 28 分\n",
      "1 時間 10 分\n",
      "1 時間 4 分\n"
     ]
    }
   ],
   "source": [
    "from selenium import webdriver\n",
    "from selenium.webdriver.chrome.service import Service\n",
    "from webdriver_manager.chrome import ChromeDriverManager\n",
    "import time\n",
    "from bs4 import BeautifulSoup\n",
    "import requests\n",
    "import bs4\n",
    "\n",
    "driver = webdriver.Chrome(service=Service(ChromeDriverManager().install()))\n",
    "\n",
    "place_list = [[35.5319546,139.49173],[35.486951,138.7779762],[35.1924611,139.0242158]]\n",
    "\n",
    "for j in range(0,len(place_list)-1):\n",
    "    for i in range(1,len(place_list)):\n",
    "        if not(j == i):\n",
    "            url = \"https://www.google.co.jp/maps/dir/'%g,%g'/'%g,%g'/am=t/\" %(place_list[j][0],place_list[j][1],place_list[i][0],place_list[i][1])\n",
    "            time.sleep(1)\n",
    "            \n",
    "            driver.get(url)\n",
    "\n",
    "            page_source = driver.page_source\n",
    "            soup = BeautifulSoup(page_source, 'html.parser')\n",
    "\n",
    "            #取得したい要素を取得\n",
    "\n",
    "            link = soup.find_all(class_=\"Fk3sm fontHeadlineSmall delay-light\")\n",
    "            print(link[0].text.strip())"
   ]
  }
 ],
 "metadata": {
  "kernelspec": {
   "display_name": "only-pip",
   "language": "python",
   "name": "python3"
  },
  "language_info": {
   "codemirror_mode": {
    "name": "ipython",
    "version": 3
   },
   "file_extension": ".py",
   "mimetype": "text/x-python",
   "name": "python",
   "nbconvert_exporter": "python",
   "pygments_lexer": "ipython3",
   "version": "3.11.3"
  }
 },
 "nbformat": 4,
 "nbformat_minor": 2
}
