{
 "cells": [
  {
   "cell_type": "code",
   "execution_count": 6,
   "metadata": {},
   "outputs": [
    {
     "name": "stdout",
     "output_type": "stream",
     "text": [
      "None\n"
     ]
    },
    {
     "ename": "TypeError",
     "evalue": "'NoneType' object is not iterable",
     "output_type": "error",
     "traceback": [
      "\u001b[1;31m---------------------------------------------------------------------------\u001b[0m",
      "\u001b[1;31mTypeError\u001b[0m                                 Traceback (most recent call last)",
      "Cell \u001b[1;32mIn[6], line 19\u001b[0m\n\u001b[0;32m     17\u001b[0m \u001b[38;5;66;03m#取得したタイトル情報を出力\u001b[39;00m\n\u001b[0;32m     18\u001b[0m ret \u001b[38;5;241m=\u001b[39m []\n\u001b[1;32m---> 19\u001b[0m \u001b[38;5;28;01mfor\u001b[39;00m t \u001b[38;5;129;01min\u001b[39;00m name:\n\u001b[0;32m     20\u001b[0m     ret\u001b[38;5;241m.\u001b[39mappend(t\u001b[38;5;241m.\u001b[39mtext)\n\u001b[0;32m     22\u001b[0m \u001b[38;5;28mprint\u001b[39m(ret) \u001b[38;5;66;03m# ['item1', 'item2', ～]\u001b[39;00m\n",
      "\u001b[1;31mTypeError\u001b[0m: 'NoneType' object is not iterable"
     ]
    }
   ],
   "source": [
    "import urllib.request\n",
    "from bs4 import BeautifulSoup\n",
    "\n",
    "#対象のサイトURL\n",
    "url = \"https://www.google.co.jp/maps/dir/'35.5319589,139.49173'/'35.193002,139.0237482'/am=t/\"\n",
    "\n",
    "#URLリソースを開く\n",
    "res = urllib.request.urlopen(url)\n",
    "\n",
    "#インスタンスの作成\n",
    "soup = BeautifulSoup(res, 'html.parser')\n",
    "\n",
    "#必要な要素とclass名\n",
    "name = soup.find(\"delay-light\")\n",
    "print(name)\n",
    "\n",
    "#取得したタイトル情報を出力\n",
    "ret = []\n",
    "for t in name:\n",
    "    ret.append(t.text)\n",
    "\n",
    "print(ret) # ['item1', 'item2', ～]"
   ]
  }
 ],
 "metadata": {
  "kernelspec": {
   "display_name": "only-pip",
   "language": "python",
   "name": "python3"
  },
  "language_info": {
   "codemirror_mode": {
    "name": "ipython",
    "version": 3
   },
   "file_extension": ".py",
   "mimetype": "text/x-python",
   "name": "python",
   "nbconvert_exporter": "python",
   "pygments_lexer": "ipython3",
   "version": "3.11.3"
  }
 },
 "nbformat": 4,
 "nbformat_minor": 2
}
