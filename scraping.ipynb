{
 "cells": [
  {
   "cell_type": "code",
   "execution_count": 21,
   "metadata": {},
   "outputs": [
    {
     "ename": "IndexError",
     "evalue": "list index out of range",
     "output_type": "error",
     "traceback": [
      "\u001b[1;31m---------------------------------------------------------------------------\u001b[0m",
      "\u001b[1;31mIndexError\u001b[0m                                Traceback (most recent call last)",
      "Cell \u001b[1;32mIn[21], line 33\u001b[0m\n\u001b[0;32m     30\u001b[0m \u001b[38;5;66;03m#取得したい要素を取得\u001b[39;00m\n\u001b[0;32m     32\u001b[0m link \u001b[38;5;241m=\u001b[39m soup\u001b[38;5;241m.\u001b[39mfind_all(class_\u001b[38;5;241m=\u001b[39m\u001b[38;5;124m\"\u001b[39m\u001b[38;5;124mFk3sm fontHeadlineSmall \u001b[39m\u001b[38;5;124m\"\u001b[39m)\n\u001b[1;32m---> 33\u001b[0m \u001b[38;5;28mprint\u001b[39m(j,i,\u001b[43mlink\u001b[49m\u001b[43m[\u001b[49m\u001b[38;5;241;43m0\u001b[39;49m\u001b[43m]\u001b[49m\u001b[38;5;241m.\u001b[39mtext\u001b[38;5;241m.\u001b[39mstrip(),link)\n\u001b[0;32m     34\u001b[0m kara_list\u001b[38;5;241m.\u001b[39mappend([j,i,link[\u001b[38;5;241m0\u001b[39m]\u001b[38;5;241m.\u001b[39mtext\u001b[38;5;241m.\u001b[39mstrip()])\n\u001b[0;32m     35\u001b[0m time\u001b[38;5;241m.\u001b[39msleep(\u001b[38;5;241m2\u001b[39m)\n",
      "\u001b[1;31mIndexError\u001b[0m: list index out of range"
     ]
    }
   ],
   "source": [
    "from selenium import webdriver\n",
    "from selenium.webdriver.chrome.service import Service\n",
    "from webdriver_manager.chrome import ChromeDriverManager\n",
    "import time\n",
    "from bs4 import BeautifulSoup\n",
    "import pandas as pd\n",
    "import csv\n",
    "\n",
    "filename = 'test1.csv'\n",
    "with open(filename, encoding='utf8', newline='') as f:\n",
    "    csvreader = csv.reader(f)\n",
    "    place_list = [row for row in csvreader]\n",
    "\n",
    "kara_list = []\n",
    "\n",
    "\n",
    "driver = webdriver.Chrome(service=Service(ChromeDriverManager().install()))\n",
    "\n",
    "for j in range(1,len(place_list)-1):\n",
    "    for i in range(2,len(place_list)):\n",
    "        if not(j == i):\n",
    "            url = \"https://www.google.co.jp/maps/dir/'%g,%g'/'%g,%g'/data=\"\\\n",
    "                %(float(place_list[j][1]),float(place_list[j][2]),float(place_list[i][1]),float(place_list[i][2]))\n",
    "            \n",
    "            driver.get(url)\n",
    "\n",
    "            page_source = driver.page_source\n",
    "            soup = BeautifulSoup(page_source, 'html.parser')\n",
    "\n",
    "            #取得したい要素を取得\n",
    "\n",
    "            link = soup.find_all(class_=\"Fk3sm fontHeadlineSmall delay-light\")\n",
    "            print(j,i,link[0].text.strip(),link)\n",
    "            kara_list.append([j,i,link[0].text.strip()])\n",
    "            time.sleep(2)\n",
    "kara_list"
   ]
  }
 ],
 "metadata": {
  "kernelspec": {
   "display_name": "only-pip",
   "language": "python",
   "name": "python3"
  },
  "language_info": {
   "codemirror_mode": {
    "name": "ipython",
    "version": 3
   },
   "file_extension": ".py",
   "mimetype": "text/x-python",
   "name": "python",
   "nbconvert_exporter": "python",
   "pygments_lexer": "ipython3",
   "version": "3.11.3"
  }
 },
 "nbformat": 4,
 "nbformat_minor": 2
}
