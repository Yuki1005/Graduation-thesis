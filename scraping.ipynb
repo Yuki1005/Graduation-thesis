{
 "cells": [
  {
   "cell_type": "code",
   "execution_count": 1,
   "metadata": {},
   "outputs": [
    {
     "name": "stdout",
     "output_type": "stream",
     "text": [
      "1 2 1 時間 33 分 [<div class=\"Fk3sm fontHeadlineSmall delay-light\" style='font-family: \"Google Sans\", Roboto, \"Noto Sans JP\", Arial, sans-serif;'>1 時間 33 分</div>, <div class=\"Fk3sm fontHeadlineSmall delay-light\" style='font-family: \"Google Sans\", Roboto, \"Noto Sans JP\", Arial, sans-serif;'>1 時間 59 分</div>]\n",
      "1 3 1 時間 15 分 [<div class=\"Fk3sm fontHeadlineSmall delay-light\" style='font-family: \"Google Sans\", Roboto, \"Noto Sans JP\", Arial, sans-serif;'>1 時間 15 分</div>, <div class=\"Fk3sm fontHeadlineSmall delay-light\" style='font-family: \"Google Sans\", Roboto, \"Noto Sans JP\", Arial, sans-serif;'>1 時間 22 分</div>]\n",
      "1 4 1 時間 29 分 [<div class=\"Fk3sm fontHeadlineSmall delay-light\" style='font-family: \"Google Sans\", Roboto, \"Noto Sans JP\", Arial, sans-serif;'>1 時間 29 分</div>, <div class=\"Fk3sm fontHeadlineSmall delay-light\" style='font-family: \"Google Sans\", Roboto, \"Noto Sans JP\", Arial, sans-serif;'>1 時間 30 分</div>]\n",
      "1 5 1 時間 16 分 [<div class=\"Fk3sm fontHeadlineSmall delay-light\" style='font-family: \"Google Sans\", Roboto, \"Noto Sans JP\", Arial, sans-serif;'>1 時間 16 分</div>, <div class=\"Fk3sm fontHeadlineSmall delay-light\" style='font-family: \"Google Sans\", Roboto, \"Noto Sans JP\", Arial, sans-serif;'>1 時間 23 分</div>]\n",
      "1 6 1 時間 25 分 [<div class=\"Fk3sm fontHeadlineSmall delay-light\" style='font-family: \"Google Sans\", Roboto, \"Noto Sans JP\", Arial, sans-serif;'>1 時間 25 分</div>, <div class=\"Fk3sm fontHeadlineSmall delay-light\" style='font-family: \"Google Sans\", Roboto, \"Noto Sans JP\", Arial, sans-serif;'>1 時間 27 分</div>]\n",
      "1 7 1 時間 19 分 [<div class=\"Fk3sm fontHeadlineSmall delay-light\" style='font-family: \"Google Sans\", Roboto, \"Noto Sans JP\", Arial, sans-serif;'>1 時間 19 分</div>, <div class=\"Fk3sm fontHeadlineSmall delay-light\" style='font-family: \"Google Sans\", Roboto, \"Noto Sans JP\", Arial, sans-serif;'>1 時間 26 分</div>]\n",
      "1 8 1 時間 17 分 [<div class=\"Fk3sm fontHeadlineSmall delay-light\" style='font-family: \"Google Sans\", Roboto, \"Noto Sans JP\", Arial, sans-serif;'>1 時間 17 分</div>, <div class=\"Fk3sm fontHeadlineSmall delay-light\" style='font-family: \"Google Sans\", Roboto, \"Noto Sans JP\", Arial, sans-serif;'>1 時間 21 分</div>]\n",
      "1 9 1 時間 27 分 [<div class=\"Fk3sm fontHeadlineSmall delay-light\" style='font-family: \"Google Sans\", Roboto, \"Noto Sans JP\", Arial, sans-serif;'>1 時間 27 分</div>, <div class=\"Fk3sm fontHeadlineSmall delay-light\" style='font-family: \"Google Sans\", Roboto, \"Noto Sans JP\", Arial, sans-serif;'>1 時間 46 分</div>]\n",
      "1 10 1 時間 24 分 [<div class=\"Fk3sm fontHeadlineSmall delay-light\" style='font-family: \"Google Sans\", Roboto, \"Noto Sans JP\", Arial, sans-serif;'>1 時間 24 分</div>, <div class=\"Fk3sm fontHeadlineSmall delay-light\" style='font-family: \"Google Sans\", Roboto, \"Noto Sans JP\", Arial, sans-serif;'>1 時間 31 分</div>]\n",
      "2 3 1 時間 8 分 [<div class=\"Fk3sm fontHeadlineSmall delay-light\" style='font-family: \"Google Sans\", Roboto, \"Noto Sans JP\", Arial, sans-serif;'>1 時間 8 分</div>, <div class=\"Fk3sm fontHeadlineSmall delay-light\" style='font-family: \"Google Sans\", Roboto, \"Noto Sans JP\", Arial, sans-serif;'>1 時間 27 分</div>]\n",
      "2 4 57 分 [<div class=\"Fk3sm fontHeadlineSmall delay-light\" style='font-family: \"Google Sans\", Roboto, \"Noto Sans JP\", Arial, sans-serif;'>57 分</div>, <div class=\"Fk3sm fontHeadlineSmall delay-light\" style='font-family: \"Google Sans\", Roboto, \"Noto Sans JP\", Arial, sans-serif;'>1 時間 16 分</div>]\n",
      "2 5 1 時間 12 分 [<div class=\"Fk3sm fontHeadlineSmall delay-light\" style='font-family: \"Google Sans\", Roboto, \"Noto Sans JP\", Arial, sans-serif;'>1 時間 12 分</div>, <div class=\"Fk3sm fontHeadlineSmall delay-light\" style='font-family: \"Google Sans\", Roboto, \"Noto Sans JP\", Arial, sans-serif;'>1 時間 31 分</div>]\n",
      "2 6 1 時間 4 分 [<div class=\"Fk3sm fontHeadlineSmall delay-light\" style='font-family: \"Google Sans\", Roboto, \"Noto Sans JP\", Arial, sans-serif;'>1 時間 4 分</div>, <div class=\"Fk3sm fontHeadlineSmall delay-light\" style='font-family: \"Google Sans\", Roboto, \"Noto Sans JP\", Arial, sans-serif;'>1 時間 22 分</div>]\n",
      "2 7 1 時間 5 分 [<div class=\"Fk3sm fontHeadlineSmall delay-light\" style='font-family: \"Google Sans\", Roboto, \"Noto Sans JP\", Arial, sans-serif;'>1 時間 5 分</div>, <div class=\"Fk3sm fontHeadlineSmall delay-light\" style='font-family: \"Google Sans\", Roboto, \"Noto Sans JP\", Arial, sans-serif;'>1 時間 24 分</div>]\n",
      "2 8 54 分 [<div class=\"Fk3sm fontHeadlineSmall delay-light\" style='font-family: \"Google Sans\", Roboto, \"Noto Sans JP\", Arial, sans-serif;'>54 分</div>, <div class=\"Fk3sm fontHeadlineSmall delay-light\" style='font-family: \"Google Sans\", Roboto, \"Noto Sans JP\", Arial, sans-serif;'>1 時間 14 分</div>]\n",
      "2 9 55 分 [<div class=\"Fk3sm fontHeadlineSmall delay-light\" style='font-family: \"Google Sans\", Roboto, \"Noto Sans JP\", Arial, sans-serif;'>55 分</div>, <div class=\"Fk3sm fontHeadlineSmall delay-light\" style='font-family: \"Google Sans\", Roboto, \"Noto Sans JP\", Arial, sans-serif;'>1 時間 14 分</div>]\n",
      "2 10 1 時間 [<div class=\"Fk3sm fontHeadlineSmall delay-light\" style='font-family: \"Google Sans\", Roboto, \"Noto Sans JP\", Arial, sans-serif;'>1 時間</div>, <div class=\"Fk3sm fontHeadlineSmall delay-light\" style='font-family: \"Google Sans\", Roboto, \"Noto Sans JP\", Arial, sans-serif;'>1 時間 18 分</div>]\n",
      "3 2 1 時間 10 分 [<div class=\"Fk3sm fontHeadlineSmall delay-light\" style='font-family: \"Google Sans\", Roboto, \"Noto Sans JP\", Arial, sans-serif;'>1 時間 10 分</div>, <div class=\"Fk3sm fontHeadlineSmall delay-light\" style='font-family: \"Google Sans\", Roboto, \"Noto Sans JP\", Arial, sans-serif;'>1 時間 43 分</div>]\n",
      "3 4 36 分 [<div class=\"Fk3sm fontHeadlineSmall delay-light\" style='font-family: \"Google Sans\", Roboto, \"Noto Sans JP\", Arial, sans-serif;'>36 分</div>]\n"
     ]
    },
    {
     "ename": "IndexError",
     "evalue": "list index out of range",
     "output_type": "error",
     "traceback": [
      "\u001b[1;31m---------------------------------------------------------------------------\u001b[0m",
      "\u001b[1;31mIndexError\u001b[0m                                Traceback (most recent call last)",
      "Cell \u001b[1;32mIn[1], line 33\u001b[0m\n\u001b[0;32m     30\u001b[0m             \u001b[38;5;66;03m#取得したい要素を取得\u001b[39;00m\n\u001b[0;32m     32\u001b[0m             link \u001b[38;5;241m=\u001b[39m soup\u001b[38;5;241m.\u001b[39mfind_all(class_\u001b[38;5;241m=\u001b[39m\u001b[38;5;124m\"\u001b[39m\u001b[38;5;124mFk3sm fontHeadlineSmall delay-light\u001b[39m\u001b[38;5;124m\"\u001b[39m)\n\u001b[1;32m---> 33\u001b[0m             \u001b[38;5;28mprint\u001b[39m(j,i,\u001b[43mlink\u001b[49m\u001b[43m[\u001b[49m\u001b[38;5;241;43m0\u001b[39;49m\u001b[43m]\u001b[49m\u001b[38;5;241m.\u001b[39mtext\u001b[38;5;241m.\u001b[39mstrip(),link)\n\u001b[0;32m     34\u001b[0m             kara_list\u001b[38;5;241m.\u001b[39mappend([j,i,link[\u001b[38;5;241m0\u001b[39m]\u001b[38;5;241m.\u001b[39mtext\u001b[38;5;241m.\u001b[39mstrip()])\n\u001b[0;32m     35\u001b[0m kara_list\n",
      "\u001b[1;31mIndexError\u001b[0m: list index out of range"
     ]
    }
   ],
   "source": [
    "from selenium import webdriver\n",
    "from selenium.webdriver.chrome.service import Service\n",
    "from webdriver_manager.chrome import ChromeDriverManager\n",
    "import time\n",
    "from bs4 import BeautifulSoup\n",
    "import pandas as pd\n",
    "import csv\n",
    "\n",
    "filename = 'test1.csv'\n",
    "with open(filename, encoding='utf8', newline='') as f:\n",
    "    csvreader = csv.reader(f)\n",
    "    place_list = [row for row in csvreader]\n",
    "\n",
    "kara_list = []\n",
    "\n",
    "\n",
    "driver = webdriver.Chrome(service=Service(ChromeDriverManager().install()))\n",
    "\n",
    "for j in range(1,len(place_list)-1):\n",
    "    for i in range(2,len(place_list)):\n",
    "        if not(j == i):\n",
    "            url = \"https://www.google.co.jp/maps/dir/'%g,%g'/'%g,%g'/data=\"\\\n",
    "                %(float(place_list[j][1]),float(place_list[j][2]),float(place_list[i][1]),float(place_list[i][2]))\n",
    "            \n",
    "            driver.get(url)\n",
    "\n",
    "            page_source = driver.page_source\n",
    "            soup = BeautifulSoup(page_source, 'html.parser')\n",
    "\n",
    "            #取得したい要素を取得\n",
    "\n",
    "            link = soup.find_all(class_=\"Fk3sm fontHeadlineSmall delay-light\")\n",
    "            print(j,i,link[0].text.strip(),link)\n",
    "            kara_list.append([j,i,link[0].text.strip()])\n",
    "kara_list"
   ]
  }
 ],
 "metadata": {
  "kernelspec": {
   "display_name": "only-pip",
   "language": "python",
   "name": "python3"
  },
  "language_info": {
   "codemirror_mode": {
    "name": "ipython",
    "version": 3
   },
   "file_extension": ".py",
   "mimetype": "text/x-python",
   "name": "python",
   "nbconvert_exporter": "python",
   "pygments_lexer": "ipython3",
   "version": "3.11.3"
  }
 },
 "nbformat": 4,
 "nbformat_minor": 2
}
