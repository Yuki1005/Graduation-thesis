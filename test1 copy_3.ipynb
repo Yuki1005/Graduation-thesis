{
 "cells": [
  {
   "cell_type": "code",
   "execution_count": 188,
   "metadata": {},
   "outputs": [
    {
     "data": {
      "text/plain": [
       "[['地名', 'latitude', 'longitude'],\n",
       " ['長津田駅', '35.5319589', '139.49173'],\n",
       " ['河口湖ビジネス&リゾート+サワホテル', '35.4946247', '138.7589732'],\n",
       " ['Bakery&Table+箱根（ベーカリー＆テーブル）', '35.2001708', '139.0321096'],\n",
       " ['うなぎ+桜家', '35.1191933', '138.9138269'],\n",
       " ['箱根神社', '35.2040652', '139.0266838'],\n",
       " ['大涌谷', '35.2414681', '139.0227329'],\n",
       " ['早雲山駅', '35.2459732', '139.0357894'],\n",
       " ['箱根ガラスの森美術館', '35.2609093', '139.0183711'],\n",
       " ['三嶋大社', '35.1195374', '138.9178982'],\n",
       " ['三島スカイウォーク', '35.1547315', '138.9820768']]"
      ]
     },
     "execution_count": 188,
     "metadata": {},
     "output_type": "execute_result"
    }
   ],
   "source": [
    "import csv\n",
    "import numpy as np\n",
    "import pandas as pd\n",
    "import itertools\n",
    "import folium\n",
    "import time\n",
    "import openrouteservice as ors\n",
    "import sys\n",
    "import urllib.parse\n",
    "import pulp\n",
    "import datetime\n",
    "\n",
    "filename = 'test1.csv'\n",
    "with open(filename, encoding='utf8', newline='') as f:\n",
    "    csvreader = csv.reader(f)\n",
    "    place_list = [row for row in csvreader]\n",
    "place_list"
   ]
  },
  {
   "cell_type": "markdown",
   "metadata": {},
   "source": [
    "datalist = []\n",
    "\n",
    "ors_key = \"5b3ce3597851110001cf624804ffaeec7cd246038d01eb4d3a32f633\"\n",
    "ors_boot = ors.Client(ors_key)\n",
    "\n",
    "for i in range(1,len(place_list)-1):\n",
    "    pos_1 = float(place_list[i][1]),float(place_list[i][2])\n",
    "    for j in range(2,len(place_list)):\n",
    "        pos_2 = float(place_list[j][1]),float(place_list[j][2])\n",
    "        p1r = tuple(reversed(pos_1))\n",
    "        p2r = tuple(reversed(pos_2))\n",
    "        \n",
    "        try:\n",
    "            route_rslt = ors_boot.directions((p1r,p2r),profile = \"driving-car\")\n",
    "            datalist.append([i,j,float(route_rslt[\"routes\"][0][\"summary\"][\"duration\"])])\n",
    "            print(i,j,float(route_rslt[\"routes\"][0][\"summary\"][\"duration\"]))\n",
    "        except:\n",
    "            pass\n",
    "tfr_time = pd.DataFrame(datalist, columns=[\"出発地点\",\"行先\",\"移動時間[s]\"])\n"
   ]
  },
  {
   "cell_type": "markdown",
   "metadata": {},
   "source": [
    "tfr_time.to_csv(\"time1.csv\",index=0)"
   ]
  },
  {
   "cell_type": "code",
   "execution_count": 189,
   "metadata": {},
   "outputs": [
    {
     "name": "stdout",
     "output_type": "stream",
     "text": [
      "[[86401, 4969.9, 4580.9, 4332.1, 4617.9, 86401, 4270.1, 4021.4, 4366.5, 4772.3], [4969.9, 86401, 3461.0, 2888.2, 3579.9, 86401, 2895.7, 2647.1, 2922.6, 3327.4], [4580.9, 3461.0, 86401, 1443.9, 311.9, 86401, 624.7, 907.1, 1430.5, 1105.5], [4332.1, 2888.2, 1443.9, 86401, 1651.7, 86401, 1981.6, 2035.2, 34.4, 656.9], [4617.9, 3579.9, 311.9, 1651.7, 86401, 86401, 661.7, 944.1, 1529.5, 1313.5], [86401, 86401, 86401, 86401, 86401, 86401, 86401, 86401, 86401, 86401], [4270.1, 2895.7, 624.7, 1981.6, 661.7, 86401, 86401, 341.9, 1968.3, 1643.3], [4021.4, 2647.1, 907.1, 2035.2, 944.1, 86401, 341.9, 86401, 2072.4, 1925.7], [4366.5, 2922.6, 1430.5, 34.4, 1529.5, 86401, 1968.3, 2072.4, 86401, 643.6], [4772.3, 3327.4, 1105.5, 656.9, 1313.5, 86401, 1643.3, 1925.7, 643.6, 86401]]\n"
     ]
    }
   ],
   "source": [
    "tfr_time = pd.read_csv(\"time1.csv\")\n",
    "\n",
    "customer_count = len(place_list)-1\n",
    "loc_loc_time = tfr_time.to_numpy().tolist()\n",
    "num_places_time = len(tfr_time)\n",
    "\n",
    "cost = [[86401 for i in range(customer_count)] for j in range(customer_count)]\n",
    "for i in range(num_places_time):\n",
    "    cost[int(loc_loc_time[i][0])-1][int(loc_loc_time[i][1])-1] = float(loc_loc_time[i][2])\n",
    "    cost[int(loc_loc_time[i][1])-1][int(loc_loc_time[i][0])-1] = float(loc_loc_time[i][2])\n",
    "print(cost)\n",
    "cost = np.array(cost)"
   ]
  },
  {
   "cell_type": "code",
   "execution_count": 190,
   "metadata": {},
   "outputs": [
    {
     "name": "stdout",
     "output_type": "stream",
     "text": [
      "[1, 4, 5, 6, 7, 8, 9]\n",
      "目的関数値: 8.0\n"
     ]
    }
   ],
   "source": [
    "start_place_time = (datetime.time(8,00),datetime.time(17,00))\n",
    "lunch_time = datetime.time(12,00)\n",
    "lim_time = (lunch_time.hour *60 + lunch_time.minute) *60 - (start_place_time[0].hour *60 + start_place_time[0].minute) *60\n",
    "lim_time2 = (start_place_time[1].hour *60 + start_place_time[1].minute) *60 - (lunch_time.hour *60 + lunch_time.minute) *60\n",
    "lim_time3 = (start_place_time[1].hour *60 + start_place_time[1].minute) *60 - (start_place_time[0].hour *60 + start_place_time[0].minute) *60\n",
    "count_place = customer_count\n",
    "lunch_count = 2\n",
    "\n",
    "count_remove_place = list(range(0,count_place))\n",
    "del count_remove_place[2:lunch_count+2]\n",
    "del count_remove_place[0]\n",
    "    \n",
    "\n",
    "print(count_remove_place)\n",
    "\n",
    "# 問題の宣言\n",
    "problem = pulp.LpProblem(\"CVRP\", pulp.LpMaximize)\n",
    "\n",
    "# 決定変数\n",
    "x = [[[pulp.LpVariable(\"x%s_%s,%s\"%(i,j,k), cat=\"Binary\") \\\n",
    "       if i != j else None for k in range(2)]for j in range(count_place)] for i in range(count_place)]\n",
    "\n",
    "# 目的関数\n",
    "problem += pulp.lpSum(x[i][j][k] if i != j else 0\n",
    "                        for k in range(2) for j in range(count_place) for i in range (count_place))\n",
    "\n",
    "# 制約\n",
    "# (2)式，各顧客の場所に訪れるのは1台の車両で1度である\n",
    "for j in range(count_place):\n",
    "    problem += pulp.lpSum(x[i][j][k] if i != j else 0 for i in range(count_place) for k in range(2)) <= 1 \n",
    "\n",
    "#(3)式, depotから出発して，depotに戻ってくる\n",
    "\n",
    "# 出発地から必ず出る\n",
    "problem += pulp.lpSum(x[0][j][0] for j in range(count_place)) == 1\n",
    "problem += pulp.lpSum(x[i][0][0] for i in range(count_place)) == 0\n",
    "\n",
    "problem += pulp.lpSum(x[1][j][1] for j in range(1,count_place)) == 0\n",
    "problem += pulp.lpSum(x[i][1][1] for i in range(count_place)) == 1\n",
    "problem += pulp.lpSum(x[0][j][1] for j in range(count_place)) == 0\n",
    "\n",
    "# 指定した昼ご飯の場所に到着する\n",
    "problem += pulp.lpSum(x[i][j][0] for i in range(count_place) for j in range(2,lunch_count + 2)) == 1\n",
    "problem += pulp.lpSum(x[i][j][0] for j in range(count_place) for i in range(2,lunch_count + 2)) == 0\n",
    "\n",
    "problem += pulp.lpSum(x[i][j][1] for i in range(2,count_place) for j in range(2,lunch_count + 2)) == 0\n",
    "problem += pulp.lpSum(x[i][j][1] for j in range(2,count_place) for i in range(2,lunch_count + 2)) == 1\n",
    "\n",
    "# 午前の最後と午後の最初は一緒\n",
    "for l in range(2,lunch_count + 2):\n",
    "    problem += pulp.lpSum(x[l][j][1] for j in range(2,count_place)) - pulp.lpSum(x[i][l][0] for i in range(count_place)) == 0\n",
    "\n",
    "#(4)式, ある顧客の所に来る車両数と出る車両数が同じ\n",
    "for k in range(2):\n",
    "    for j in count_remove_place:\n",
    "        problem += pulp.lpSum(x[i][j][k] if i != j else 0 for i in range(count_place)) -  pulp.lpSum(x[j][i][k] for i in range(count_place)) == 0\n",
    "\n",
    "#(5)式, 各車両において最大容量を超えない\n",
    "problem += pulp.lpSum((3600 + cost[i][j]) * x[i][j][0] if i != j else 0 for i in range(count_place) for j in range (1,count_place)) <= lim_time +7200\n",
    "problem += pulp.lpSum((3600 + cost[i][j]) * x[i][j][0] if i != j else 0 for i in range(count_place) for j in range (1,count_place)) >= lim_time +3600\n",
    "\n",
    "problem += pulp.lpSum((3600 + cost[i][j]) * x[i][j][1] if i != j else 0 for i in range(count_place) for j in range (1,count_place)) + \\\n",
    "    pulp.lpSum((3600 + cost[i][j]) * x[i][j][0] if i != j else 0 for i in range(count_place) for j in range (1,count_place)) <= lim_time3 +3600\n",
    "\n",
    "\n",
    "#(6)式, 部分巡回路除去制約\n",
    "subtours = []\n",
    "for i in range(2,count_place):\n",
    "        subtours += itertools.combinations(range(1,count_place), i)\n",
    "\n",
    "for s in subtours:\n",
    "    problem += pulp.lpSum(x[i][j][k] if i !=j else 0 for i, j in itertools.permutations(s,2) for k in range(2)) <= len(s) - 1\n",
    "\n",
    "#最適化問題を解く\n",
    "#最適解が出たら終了\n",
    "if problem.solve() == 1:\n",
    "    print('目的関数値:', pulp.value(problem.objective))\n",
    "else:\n",
    "    print(problem)"
   ]
  },
  {
   "cell_type": "code",
   "execution_count": 191,
   "metadata": {},
   "outputs": [
    {
     "name": "stdout",
     "output_type": "stream",
     "text": [
      "0\n",
      "0 7\n",
      "4 2\n",
      "6 4\n",
      "7 6\n",
      "1\n",
      "2 9\n",
      "8 1\n",
      "9 8\n",
      "[[0, 7], [4, 2], [6, 4], [7, 6], [2, 9], [8, 1], [9, 8]]\n",
      "~ 9 \n",
      "最適化 8.780166666666666\n",
      "31608.6\n"
     ]
    },
    {
     "data": {
      "text/plain": [
       "[0, 7, 6, 4, 2, 9, 8, 1]"
      ]
     },
     "execution_count": 191,
     "metadata": {},
     "output_type": "execute_result"
    }
   ],
   "source": [
    "basyo_num_list = []\n",
    "basyo_list = [0]\n",
    "jikan = 0\n",
    "\n",
    "for k in range(2):\n",
    "    print(k)\n",
    "    for i in range(count_place):\n",
    "        for j in range(count_place):\n",
    "            if i != j and pulp.value(x[i][j][k]) == 1:\n",
    "                if not(i==1):\n",
    "                    print(i,j)\n",
    "                    jikan += 3600 + cost[i][j]\n",
    "                    basyo_num_list.append([i,j])\n",
    "\n",
    "\n",
    "print(basyo_num_list)\n",
    "print(\"~\",start_place_time[1].hour - start_place_time[0].hour,\"\\n最適化\",(jikan-3600)/3600)\n",
    "\n",
    "print(jikan-3600)\n",
    "for i in range(len(basyo_num_list)):\n",
    "    for j in range(len(basyo_num_list)):\n",
    "        if basyo_num_list[j][0] == basyo_list[-1]:\n",
    "            basyo_list.append(basyo_num_list[j][1])\n",
    "zenhan = basyo_list.copy()\n",
    "basyo_list"
   ]
  },
  {
   "cell_type": "code",
   "execution_count": null,
   "metadata": {},
   "outputs": [],
   "source": []
  }
 ],
 "metadata": {
  "kernelspec": {
   "display_name": "only-pip",
   "language": "python",
   "name": "python3"
  },
  "language_info": {
   "codemirror_mode": {
    "name": "ipython",
    "version": 3
   },
   "file_extension": ".py",
   "mimetype": "text/x-python",
   "name": "python",
   "nbconvert_exporter": "python",
   "pygments_lexer": "ipython3",
   "version": "3.11.3"
  }
 },
 "nbformat": 4,
 "nbformat_minor": 2
}
