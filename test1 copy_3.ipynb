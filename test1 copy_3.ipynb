{
 "cells": [
  {
   "cell_type": "code",
   "execution_count": 172,
   "metadata": {},
   "outputs": [],
   "source": [
    "import csv\n",
    "import numpy as np\n",
    "import pandas as pd\n",
    "import itertools\n",
    "import folium\n",
    "import time\n",
    "import openrouteservice as ors\n",
    "import sys\n",
    "import urllib.parse\n",
    "import pulp\n",
    "import datetime"
   ]
  },
  {
   "cell_type": "markdown",
   "metadata": {},
   "source": [
    "datalist = []\n",
    "\n",
    "ors_key = \"5b3ce3597851110001cf624804ffaeec7cd246038d01eb4d3a32f633\"\n",
    "ors_boot = ors.Client(ors_key)\n",
    "\n",
    "for i in range(1,len(place_list)-1):\n",
    "    pos_1 = float(place_list[i][1]),float(place_list[i][2])\n",
    "    for j in range(2,len(place_list)):\n",
    "        pos_2 = float(place_list[j][1]),float(place_list[j][2])\n",
    "        p1r = tuple(reversed(pos_1))\n",
    "        p2r = tuple(reversed(pos_2))\n",
    "        \n",
    "        try:\n",
    "            route_rslt = ors_boot.directions((p1r,p2r),profile = \"driving-car\")\n",
    "            datalist.append([i,j,float(route_rslt[\"routes\"][0][\"summary\"][\"duration\"])])\n",
    "            print(i,j,float(route_rslt[\"routes\"][0][\"summary\"][\"duration\"]))\n",
    "        except:\n",
    "            pass\n",
    "tfr_time = pd.DataFrame(datalist, columns=[\"出発地点\",\"行先\",\"移動時間[s]\"])\n"
   ]
  },
  {
   "cell_type": "markdown",
   "metadata": {},
   "source": [
    "tfr_time.to_csv(\"time1.csv\",index=0)"
   ]
  },
  {
   "cell_type": "code",
   "execution_count": 173,
   "metadata": {},
   "outputs": [
    {
     "name": "stdout",
     "output_type": "stream",
     "text": [
      "[['長津田駅', 35.5319589, 139.49173], ['河口湖ビジネス&リゾート+サワホテル', 35.4946247, 138.7589732], ['Bakery&Table+箱根（ベーカリー＆テーブル）', 35.2001708, 139.0321096], ['うなぎ+桜家', 35.1191933, 138.9138269], ['箱根神社', 35.2040652, 139.0266838], ['大涌谷', 35.2414681, 139.0227329], ['早雲山駅', 35.2459732, 139.0357894], ['箱根ガラスの森美術館', 35.2609093, 139.0183711], ['三嶋大社', 35.1195374, 138.9178982], ['三島スカイウォーク', 35.1547315, 138.9820768]]\n",
      "[[8.6401e+04 4.9699e+03 4.5809e+03 4.3321e+03 4.6179e+03 8.6401e+04\n",
      "  4.2701e+03 4.0214e+03 4.3665e+03 4.7723e+03]\n",
      " [4.9699e+03 8.6401e+04 3.4610e+03 2.8882e+03 3.5799e+03 8.6401e+04\n",
      "  2.8957e+03 2.6471e+03 2.9226e+03 3.3274e+03]\n",
      " [4.5809e+03 3.4610e+03 8.6401e+04 1.4439e+03 3.1190e+02 8.6401e+04\n",
      "  6.2470e+02 9.0710e+02 1.4305e+03 1.1055e+03]\n",
      " [4.3321e+03 2.8882e+03 1.4439e+03 8.6401e+04 1.6517e+03 8.6401e+04\n",
      "  1.9816e+03 2.0352e+03 3.4400e+01 6.5690e+02]\n",
      " [4.6179e+03 3.5799e+03 3.1190e+02 1.6517e+03 8.6401e+04 8.6401e+04\n",
      "  6.6170e+02 9.4410e+02 1.5295e+03 1.3135e+03]\n",
      " [8.6401e+04 8.6401e+04 8.6401e+04 8.6401e+04 8.6401e+04 8.6401e+04\n",
      "  8.6401e+04 8.6401e+04 8.6401e+04 8.6401e+04]\n",
      " [4.2701e+03 2.8957e+03 6.2470e+02 1.9816e+03 6.6170e+02 8.6401e+04\n",
      "  8.6401e+04 3.4190e+02 1.9683e+03 1.6433e+03]\n",
      " [4.0214e+03 2.6471e+03 9.0710e+02 2.0352e+03 9.4410e+02 8.6401e+04\n",
      "  3.4190e+02 8.6401e+04 2.0724e+03 1.9257e+03]\n",
      " [4.3665e+03 2.9226e+03 1.4305e+03 3.4400e+01 1.5295e+03 8.6401e+04\n",
      "  1.9683e+03 2.0724e+03 8.6401e+04 6.4360e+02]\n",
      " [4.7723e+03 3.3274e+03 1.1055e+03 6.5690e+02 1.3135e+03 8.6401e+04\n",
      "  1.6433e+03 1.9257e+03 6.4360e+02 8.6401e+04]]\n"
     ]
    }
   ],
   "source": [
    "tfr_time = pd.read_csv(\"time1.csv\")\n",
    "tfr_list = pd.read_csv(\"test1.csv\")\n",
    "place_list = tfr_list.to_numpy().tolist()\n",
    "print(place_list)\n",
    "\n",
    "customer_count = len(place_list)\n",
    "loc_loc_time = tfr_time.to_numpy().tolist()\n",
    "num_places_time = len(tfr_time)\n",
    "\n",
    "cost = [[86401 for i in range(customer_count)] for j in range(customer_count)]\n",
    "for i in range(num_places_time):\n",
    "    cost[int(loc_loc_time[i][0])-1][int(loc_loc_time[i][1])-1] = float(loc_loc_time[i][2])\n",
    "    cost[int(loc_loc_time[i][1])-1][int(loc_loc_time[i][0])-1] = float(loc_loc_time[i][2])\n",
    "cost = np.array(cost)\n",
    "print(cost)"
   ]
  },
  {
   "cell_type": "code",
   "execution_count": 174,
   "metadata": {},
   "outputs": [
    {
     "name": "stdout",
     "output_type": "stream",
     "text": [
      "[0, 1, 2, 3, 4, 5, 6, 7, 8, 9]\n",
      "[1, 4, 5, 6, 7, 8, 9]\n",
      "目的関数値: 8.0\n"
     ]
    }
   ],
   "source": [
    "start_place_time = (datetime.time(8,00),datetime.time(18,00))\n",
    "lunch_time = datetime.time(12,00)\n",
    "lim_time = (lunch_time.hour *60 + lunch_time.minute) *60 - (start_place_time[0].hour *60 + start_place_time[0].minute) *60\n",
    "lim_time2 = (start_place_time[1].hour *60 + start_place_time[1].minute) *60 - (lunch_time.hour *60 + lunch_time.minute) *60\n",
    "lim_time3 = (start_place_time[1].hour *60 + start_place_time[1].minute) *60 - (start_place_time[0].hour *60 + start_place_time[0].minute) *60\n",
    "count_place = customer_count\n",
    "lunch_count = 2\n",
    "\n",
    "count_remove_place = list(range(0,count_place))\n",
    "print(count_remove_place)\n",
    "del count_remove_place[2:lunch_count+2]\n",
    "del count_remove_place[0]\n",
    "    \n",
    "\n",
    "print(count_remove_place)\n",
    "\n",
    "# 問題の宣言\n",
    "problem = pulp.LpProblem(\"CVRP\", pulp.LpMaximize)\n",
    "\n",
    "# 決定変数\n",
    "x = [[[pulp.LpVariable(\"x%s_%s,%s\"%(i,j,k), cat=\"Binary\") \\\n",
    "       if i != j else None for k in range(2)]for j in range(count_place)] for i in range(count_place)]\n",
    "\n",
    "# 目的関数\n",
    "problem += pulp.lpSum(x[i][j][k] if i != j else 0\n",
    "                        for k in range(2) for j in range(count_place) for i in range (count_place))\n",
    "\n",
    "# 制約\n",
    "# (2)式，各顧客の場所に訪れるのは1台の車両で1度である\n",
    "for j in range(count_place):\n",
    "    problem += pulp.lpSum(x[i][j][k] if i != j else 0 for i in range(count_place) for k in range(2)) <= 1 \n",
    "\n",
    "#(3)式, depotから出発して，depotに戻ってくる\n",
    "\n",
    "# 出発地から必ず出る\n",
    "problem += pulp.lpSum(x[0][j][0] for j in range(count_place)) == 1\n",
    "problem += pulp.lpSum(x[i][0][0] for i in range(count_place)) == 0\n",
    "\n",
    "problem += pulp.lpSum(x[1][j][1] for j in range(1,count_place)) == 0\n",
    "problem += pulp.lpSum(x[i][1][1] for i in range(count_place)) == 1\n",
    "problem += pulp.lpSum(x[0][j][1] for j in range(1,count_place)) == 0\n",
    "\n",
    "# 指定した昼ご飯の場所に到着する\n",
    "problem += pulp.lpSum(x[i][j][0] for i in range(count_place) for j in range(2,lunch_count + 2)) == 1\n",
    "problem += pulp.lpSum(x[i][j][0] for j in range(count_place) for i in range(2,lunch_count + 2)) == 0\n",
    "\n",
    "problem += pulp.lpSum(x[i][j][1] for i in range(2,count_place) for j in range(2,lunch_count + 2)) == 0\n",
    "problem += pulp.lpSum(x[i][j][1] for j in range(2,count_place) for i in range(2,lunch_count + 2)) == 1\n",
    "\n",
    "# 午前の最後と午後の最初は一緒\n",
    "for l in range(2,lunch_count + 2):\n",
    "    problem += pulp.lpSum(x[l][j][1] for j in range(2,count_place)) - pulp.lpSum(x[i][l][0] for i in range(count_place)) == 0\n",
    "\n",
    "#(4)式, ある顧客の所に来る車両数と出る車両数が同じ\n",
    "for k in range(2):\n",
    "    for j in count_remove_place:\n",
    "        problem += pulp.lpSum(x[i][j][k] if i != j else 0 for i in range(count_place)) -  pulp.lpSum(x[j][i][k] for i in range(count_place)) == 0\n",
    "\n",
    "#(5)式, 各車両において最大容量を超えない\n",
    "problem += pulp.lpSum((3600 + cost[i][j]) * x[i][j][0] if i != j else 0 for i in range(count_place) for j in range (1,count_place)) <= lim_time +7200\n",
    "problem += pulp.lpSum((3600 + cost[i][j]) * x[i][j][0] if i != j else 0 for i in range(count_place) for j in range (1,count_place)) >= lim_time +3600\n",
    "\n",
    "problem += pulp.lpSum((3600 + cost[i][j]) * x[i][j][1] if i != j else 0 for i in range(count_place) for j in range (1,count_place)) + \\\n",
    "    pulp.lpSum((3600 + cost[i][j]) * x[i][j][0] if i != j else 0 for i in range(count_place) for j in range (1,count_place)) <= lim_time3 +3600\n",
    "\n",
    "\n",
    "#(6)式, 部分巡回路除去制約\n",
    "subtours = []\n",
    "for i in range(2,count_place):\n",
    "        subtours += itertools.combinations(range(1,count_place), i)\n",
    "\n",
    "for s in subtours:\n",
    "    problem += pulp.lpSum(x[i][j][k] if i !=j else 0 for i, j in itertools.permutations(s,2) for k in range(2)) <= len(s) - 1\n",
    "\n",
    "#最適化問題を解く\n",
    "#最適解が出たら終了\n",
    "if problem.solve() == 1:\n",
    "    print('目的関数値:', pulp.value(problem.objective))\n",
    "else:\n",
    "    print(problem)"
   ]
  },
  {
   "cell_type": "code",
   "execution_count": 175,
   "metadata": {},
   "outputs": [
    {
     "name": "stdout",
     "output_type": "stream",
     "text": [
      "0\n",
      "0 7\n",
      "7621.4\n",
      "4 2\n",
      "11533.3\n",
      "6 4\n",
      "15795.0\n",
      "7 6\n",
      "19736.9\n",
      "1\n",
      "2 8\n",
      "24767.4\n",
      "8 9\n",
      "29011.0\n",
      "9 1\n",
      "35938.4\n",
      "[[0, 7], [4, 2], [6, 4], [7, 6], [2, 8], [8, 9], [9, 1]]\n",
      "~ 10 \n",
      "最適化 8.982888888888889\n",
      "32338.4\n"
     ]
    },
    {
     "data": {
      "text/plain": [
       "[0, 7, 6, 4, 2, 8, 9, 1]"
      ]
     },
     "execution_count": 175,
     "metadata": {},
     "output_type": "execute_result"
    }
   ],
   "source": [
    "basyo_num_list = []\n",
    "basyo_list = [0]\n",
    "jikan = 0\n",
    "\n",
    "for k in range(2):\n",
    "    print(k)\n",
    "    for i in range(count_place):\n",
    "        for j in range(count_place):\n",
    "            if i != j and pulp.value(x[i][j][k]) == 1:\n",
    "                if not(i==1):\n",
    "                    print(i,j)\n",
    "                    jikan += 3600 + cost[i][j]\n",
    "                    print(jikan)\n",
    "                    basyo_num_list.append([i,j])\n",
    "\n",
    "\n",
    "print(basyo_num_list)\n",
    "print(\"~\",start_place_time[1].hour - start_place_time[0].hour,\"\\n最適化\",(jikan-3600)/3600)\n",
    "\n",
    "print(jikan-3600)\n",
    "for i in range(len(basyo_num_list)):\n",
    "    for j in range(len(basyo_num_list)):\n",
    "        if basyo_num_list[j][0] == basyo_list[-1]:\n",
    "            basyo_list.append(basyo_num_list[j][1])\n",
    "zenhan = basyo_list.copy()\n",
    "basyo_list"
   ]
  },
  {
   "cell_type": "code",
   "execution_count": null,
   "metadata": {},
   "outputs": [],
   "source": []
  }
 ],
 "metadata": {
  "kernelspec": {
   "display_name": "only-pip",
   "language": "python",
   "name": "python3"
  },
  "language_info": {
   "codemirror_mode": {
    "name": "ipython",
    "version": 3
   },
   "file_extension": ".py",
   "mimetype": "text/x-python",
   "name": "python",
   "nbconvert_exporter": "python",
   "pygments_lexer": "ipython3",
   "version": "3.11.3"
  }
 },
 "nbformat": 4,
 "nbformat_minor": 2
}
