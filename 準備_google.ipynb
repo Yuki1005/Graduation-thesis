{
 "cells": [
  {
   "cell_type": "code",
   "execution_count": 1,
   "metadata": {},
   "outputs": [],
   "source": [
    "import urllib.request, json\n",
    "import urllib.parse\n",
    "import datetime\n",
    "import pandas as pd"
   ]
  },
  {
   "cell_type": "code",
   "execution_count": null,
   "metadata": {},
   "outputs": [],
   "source": [
    "tfr_list = pd.read_csv(\"test2.csv\")\n",
    "place_list = tfr_list.to_numpy().tolist()\n",
    "datalist = []"
   ]
  },
  {
   "cell_type": "code",
   "execution_count": null,
   "metadata": {},
   "outputs": [],
   "source": [
    "endpoint = 'https://maps.googleapis.com/maps/api/directions/json?'\n",
    "api_key = '<取得したAPIキー>'\n",
    "\n",
    "\n",
    "dep_time = datetime.datetime.now()\n",
    "unix_time = int(dep_time.timestamp())\n",
    "\n",
    "\n",
    "for i in range(len(place_list)):\n",
    "    origin = input('出発地を入力: ').replace(' ','+')\n",
    "    for j in range(1,len(place_list)):\n",
    "        destination = input('目的地を入力: ').replace(' ','+')\n",
    "        \n",
    "        try:\n",
    "            nav_request = 'origin={}&destination={}&departure_time={}&key={}'.format(origin,destination,unix_time,api_key)\n",
    "            nav_request = urllib.parse.quote_plus(nav_request, safe='=&')\n",
    "            request = endpoint + nav_request\n",
    "\n",
    "            response = urllib.request.urlopen(request).read()\n",
    "            directions = json.loads(response)\n",
    "            distance = directions[\"routes\"][0][\"legs\"][0][\"distance\"][\"text\"]\n",
    "            duration_in_traffic = directions[\"routes\"][0][\"legs\"][0]['duration_in_traffic']['text']\n",
    "            datalist.append([i,j,distance,duration_in_traffic])\n",
    "            print([i,j,distance,duration_in_traffic])\n",
    "        except:\n",
    "            print(i,j,\"miss\")\n",
    "            pass\n",
    "\n",
    "tfr_time = pd.DataFrame(datalist, columns=[\"出発地点\",\"行先\",\"移動距離[km]\",\"移動時間[s]\"])\n",
    "\n",
    "tfr_time.to_csv(\"google_time.csv\",index=0)"
   ]
  }
 ],
 "metadata": {
  "kernelspec": {
   "display_name": "only-pip",
   "language": "python",
   "name": "python3"
  },
  "language_info": {
   "codemirror_mode": {
    "name": "ipython",
    "version": 3
   },
   "file_extension": ".py",
   "mimetype": "text/x-python",
   "name": "python",
   "nbconvert_exporter": "python",
   "pygments_lexer": "ipython3",
   "version": "3.11.3"
  }
 },
 "nbformat": 4,
 "nbformat_minor": 2
}
