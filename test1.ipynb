{
 "cells": [
  {
   "cell_type": "code",
   "execution_count": 2,
   "metadata": {},
   "outputs": [
    {
     "data": {
      "text/plain": [
       "[['地名', 'latitude', 'longitude'],\n",
       " ['長津田駅', '35.5319589', '139.49173'],\n",
       " ['河口湖ビジネス&リゾート+サワホテル', '35.4946247', '138.7589732'],\n",
       " ['Bakery&Table+箱根（ベーカリー＆テーブル）', '35.2001708', '139.0321096'],\n",
       " ['うなぎ+桜家', '35.1191933', '138.9138269'],\n",
       " ['箱根神社', '35.2040652', '139.0266838'],\n",
       " ['大涌谷', '35.2414681', '139.0227329'],\n",
       " ['早雲山駅', '35.2459732', '139.0357894'],\n",
       " ['箱根ガラスの森美術館', '35.2609093', '139.0183711'],\n",
       " ['三嶋大社', '35.1195374', '138.9178982'],\n",
       " ['三島スカイウォーク', '35.1547315', '138.9820768']]"
      ]
     },
     "execution_count": 2,
     "metadata": {},
     "output_type": "execute_result"
    }
   ],
   "source": [
    "import csv\n",
    "import numpy as np\n",
    "import pandas as pd\n",
    "import itertools\n",
    "import folium\n",
    "import time\n",
    "import openrouteservice as ors\n",
    "import sys\n",
    "import urllib.parse\n",
    "import pulp\n",
    "import datetime\n",
    "\n",
    "filename = 'test1.csv'\n",
    "with open(filename, encoding='utf8', newline='') as f:\n",
    "    csvreader = csv.reader(f)\n",
    "    place_list = [row for row in csvreader]\n",
    "place_list"
   ]
  },
  {
   "cell_type": "markdown",
   "metadata": {},
   "source": [
    "datalist = []\n",
    "\n",
    "ors_key = \"5b3ce3597851110001cf624804ffaeec7cd246038d01eb4d3a32f633\"\n",
    "ors_boot = ors.Client(ors_key)\n",
    "\n",
    "for i in range(1,len(place_list)-1):\n",
    "    pos_1 = float(place_list[i][1]),float(place_list[i][2])\n",
    "    for j in range(2,len(place_list)):\n",
    "        pos_2 = float(place_list[j][1]),float(place_list[j][2])\n",
    "        p1r = tuple(reversed(pos_1))\n",
    "        p2r = tuple(reversed(pos_2))\n",
    "        \n",
    "        try:\n",
    "            route_rslt = ors_boot.directions((p1r,p2r),profile = \"driving-car\")\n",
    "            datalist.append([i,j,float(route_rslt[\"routes\"][0][\"summary\"][\"duration\"])])\n",
    "            print(i,j,float(route_rslt[\"routes\"][0][\"summary\"][\"duration\"]))\n",
    "        except:\n",
    "            pass\n",
    "tfr_time = pd.DataFrame(datalist, columns=[\"出発地点\",\"行先\",\"移動時間[s]\"])\n"
   ]
  },
  {
   "cell_type": "markdown",
   "metadata": {},
   "source": [
    "tfr_time.to_csv(\"time1.csv\",index=0)"
   ]
  },
  {
   "cell_type": "code",
   "execution_count": 4,
   "metadata": {},
   "outputs": [
    {
     "name": "stdout",
     "output_type": "stream",
     "text": [
      "[[86401, 4969.9, 4580.9, 4332.1, 4617.9, 86401, 4270.1, 4021.4, 4366.5, 4772.3], [4969.9, 86401, 3461.0, 2888.2, 3579.9, 86401, 2895.7, 2647.1, 2922.6, 3327.4], [4580.9, 3461.0, 86401, 1443.9, 311.9, 86401, 624.7, 907.1, 1430.5, 1105.5], [4332.1, 2888.2, 1443.9, 86401, 1651.7, 86401, 1981.6, 2035.2, 34.4, 656.9], [4617.9, 3579.9, 311.9, 1651.7, 86401, 86401, 661.7, 944.1, 1529.5, 1313.5], [86401, 86401, 86401, 86401, 86401, 86401, 86401, 86401, 86401, 86401], [4270.1, 2895.7, 624.7, 1981.6, 661.7, 86401, 86401, 341.9, 1968.3, 1643.3], [4021.4, 2647.1, 907.1, 2035.2, 944.1, 86401, 341.9, 86401, 2072.4, 1925.7], [4366.5, 2922.6, 1430.5, 34.4, 1529.5, 86401, 1968.3, 2072.4, 86401, 643.6], [4772.3, 3327.4, 1105.5, 656.9, 1313.5, 86401, 1643.3, 1925.7, 643.6, 86401]]\n"
     ]
    },
    {
     "data": {
      "text/plain": [
       "array([[8.6401e+04, 4.9699e+03, 4.5809e+03, 4.3321e+03, 4.6179e+03,\n",
       "        8.6401e+04, 4.2701e+03, 4.0214e+03, 4.3665e+03, 4.7723e+03],\n",
       "       [4.9699e+03, 8.6401e+04, 3.4610e+03, 2.8882e+03, 3.5799e+03,\n",
       "        8.6401e+04, 2.8957e+03, 2.6471e+03, 2.9226e+03, 3.3274e+03],\n",
       "       [4.5809e+03, 3.4610e+03, 8.6401e+04, 1.4439e+03, 3.1190e+02,\n",
       "        8.6401e+04, 6.2470e+02, 9.0710e+02, 1.4305e+03, 1.1055e+03],\n",
       "       [4.3321e+03, 2.8882e+03, 1.4439e+03, 8.6401e+04, 1.6517e+03,\n",
       "        8.6401e+04, 1.9816e+03, 2.0352e+03, 3.4400e+01, 6.5690e+02],\n",
       "       [4.6179e+03, 3.5799e+03, 3.1190e+02, 1.6517e+03, 8.6401e+04,\n",
       "        8.6401e+04, 6.6170e+02, 9.4410e+02, 1.5295e+03, 1.3135e+03],\n",
       "       [8.6401e+04, 8.6401e+04, 8.6401e+04, 8.6401e+04, 8.6401e+04,\n",
       "        8.6401e+04, 8.6401e+04, 8.6401e+04, 8.6401e+04, 8.6401e+04],\n",
       "       [4.2701e+03, 2.8957e+03, 6.2470e+02, 1.9816e+03, 6.6170e+02,\n",
       "        8.6401e+04, 8.6401e+04, 3.4190e+02, 1.9683e+03, 1.6433e+03],\n",
       "       [4.0214e+03, 2.6471e+03, 9.0710e+02, 2.0352e+03, 9.4410e+02,\n",
       "        8.6401e+04, 3.4190e+02, 8.6401e+04, 2.0724e+03, 1.9257e+03],\n",
       "       [4.3665e+03, 2.9226e+03, 1.4305e+03, 3.4400e+01, 1.5295e+03,\n",
       "        8.6401e+04, 1.9683e+03, 2.0724e+03, 8.6401e+04, 6.4360e+02],\n",
       "       [4.7723e+03, 3.3274e+03, 1.1055e+03, 6.5690e+02, 1.3135e+03,\n",
       "        8.6401e+04, 1.6433e+03, 1.9257e+03, 6.4360e+02, 8.6401e+04]])"
      ]
     },
     "execution_count": 4,
     "metadata": {},
     "output_type": "execute_result"
    }
   ],
   "source": [
    "tfr_time = pd.read_csv(\"time1.csv\")\n",
    "\n",
    "customer_count = len(place_list)-1\n",
    "loc_loc_time = tfr_time.to_numpy().tolist()\n",
    "num_places_time = len(tfr_time)\n",
    "\n",
    "cost = [[86401 for i in range(customer_count)] for j in range(customer_count)]\n",
    "for i in range(num_places_time):\n",
    "    cost[int(loc_loc_time[i][0])-1][int(loc_loc_time[i][1])-1] = float(loc_loc_time[i][2])\n",
    "    cost[int(loc_loc_time[i][1])-1][int(loc_loc_time[i][0])-1] = float(loc_loc_time[i][2])\n",
    "print(cost)\n",
    "cost = np.array(cost)\n",
    "cost"
   ]
  },
  {
   "cell_type": "code",
   "execution_count": 10,
   "metadata": {},
   "outputs": [
    {
     "name": "stdout",
     "output_type": "stream",
     "text": [
      "[1, 4, 5, 6, 7, 8, 9]\n",
      "目的関数値: 3.0\n"
     ]
    }
   ],
   "source": [
    "start_place_time = (datetime.time(9,00),datetime.time(17,00))\n",
    "lunch_time = datetime.time(12,00)\n",
    "lim_time = (datetime.datetime.combine(datetime.date.today(), lunch_time) -\\\n",
    "    datetime.datetime.combine(datetime.date.today(), start_place_time[0])).seconds\n",
    "count_place = customer_count\n",
    "lunch_count = 2\n",
    "\n",
    "count_remove_place = list(range(0,count_place))\n",
    "del count_remove_place[2:lunch_count+2]\n",
    "del count_remove_place[0]\n",
    "    \n",
    "\n",
    "print(count_remove_place)\n",
    "\n",
    "# 問題の宣言\n",
    "problem = pulp.LpProblem(\"CVRP\", pulp.LpMaximize)\n",
    "\n",
    "# 決定変数\n",
    "x = [[pulp.LpVariable(\"x%s_%s\"%(i,j), cat=\"Binary\") if i != j else None for j in range(count_place)] for i in range(count_place)]\n",
    "\n",
    "# 目的関数\n",
    "# なるたけ訪れる地点を多くする\n",
    "problem += pulp.lpSum(x[i][j] if i != j else 0\n",
    "                        for j in range(count_place) for i in range (count_place))\n",
    "\n",
    "\n",
    "# 制約\n",
    "# (2)式，各地点に訪れるのは１回を超えてはならない\n",
    "for j in range(1, count_place):\n",
    "    problem += pulp.lpSum(x[i][j] if i != j else 0 for i in range(count_place)) <= 1 \n",
    "\n",
    "#(3)式, 出発地から始まり，指定した昼ご飯の場所に到着する\n",
    "\n",
    "# 出発地から必ず出る\n",
    "problem += pulp.lpSum(x[0][j] for j in range(1,count_place)) == 1\n",
    "# 指定した昼ご飯の場所に到着する\n",
    "problem += pulp.lpSum(x[i][k] for i in range(count_place) for k in range(2,lunch_count + 2)) == 1         #############ここを変える\n",
    "problem += pulp.lpSum(x[k][j] for j in range(count_place) for k in range(2,lunch_count + 2)) == 0         #############ここを変える\n",
    "\n",
    "problem += pulp.lpSum(x[i][0] for i in range(1,count_place)) == 0\n",
    "\n",
    "#(4)式, 出発到着地点以外の箇所に対し出入りの数が同じ\n",
    "\n",
    "for j in count_remove_place:         #############ここを変える\n",
    "    problem += pulp.lpSum(x[i][j] if i != j else 0 for i in range(count_place)) -  pulp.lpSum(x[j][i] for i in range(count_place)) == 0\n",
    "\n",
    "#(5)式, 時間制約を越えない\n",
    "\n",
    "problem += pulp.lpSum((3600 + cost[i][j]) * x[i][j]if i != j else 0 for i in range(count_place) for j in range (1,count_place)) <= lim_time +7200\n",
    "problem += pulp.lpSum((3600 + cost[i][j]) * x[i][j]if i != j else 0 for i in range(count_place) for j in range (1,count_place)) >= lim_time +3600\n",
    "\n",
    "#(6)式, 部分巡回路除去制約\n",
    "subtours = []\n",
    "for i in range(2,count_place):\n",
    "        subtours += itertools.combinations(range(1,count_place), i)\n",
    "\n",
    "for s in subtours:\n",
    "    problem += pulp.lpSum(x[i][j] if i !=j else 0 for i, j in itertools.permutations(s,2)) <= len(s) - 1\n",
    "\n",
    "\n",
    "if problem.solve() == 1:\n",
    "    print('目的関数値:', pulp.value(problem.objective))"
   ]
  },
  {
   "cell_type": "code",
   "execution_count": 11,
   "metadata": {},
   "outputs": [
    {
     "name": "stdout",
     "output_type": "stream",
     "text": [
      "0 9\n",
      "8 3\n",
      "9 8\n",
      "[[0, 9], [8, 3], [9, 8]]\n",
      "時間 3.0 ~ 4.0 \n",
      "最適化 3.513972222222222\n"
     ]
    },
    {
     "data": {
      "text/plain": [
       "[0, 9, 8, 3]"
      ]
     },
     "execution_count": 11,
     "metadata": {},
     "output_type": "execute_result"
    }
   ],
   "source": [
    "basyo_num_list = []\n",
    "basyo_list = [0]\n",
    "jikan = 0\n",
    "\n",
    "\n",
    "for i in range(customer_count):\n",
    "    for j in range(customer_count):\n",
    "        if i != j and pulp.value(x[i][j]) == 1:\n",
    "            print(i,j)\n",
    "            jikan += 3600 + cost[i][j]\n",
    "            basyo_num_list.append([i,j])\n",
    "\n",
    "\n",
    "print(basyo_num_list)\n",
    "print(\"時間\",lim_time/3600,\"~\",(lim_time + 3600)/3600,\"\\n最適化\",(jikan-3600)/3600)\n",
    "\n",
    "for i in range(len(basyo_num_list)):\n",
    "    for j in range(len(basyo_num_list)):\n",
    "        if basyo_num_list[j][0] == basyo_list[-1]:\n",
    "            basyo_list.append(basyo_num_list[j][1])\n",
    "basyo_list"
   ]
  },
  {
   "cell_type": "code",
   "execution_count": 9,
   "metadata": {},
   "outputs": [
    {
     "name": "stdout",
     "output_type": "stream",
     "text": [
      "[9, 8]\n"
     ]
    },
    {
     "data": {
      "text/plain": [
       "[0, 1, 2, 4, 5, 6, 7]"
      ]
     },
     "execution_count": 9,
     "metadata": {},
     "output_type": "execute_result"
    }
   ],
   "source": [
    "basyo_list1 = basyo_list.copy()\n",
    "# いったとこlist\n",
    "del basyo_list1[0]\n",
    "del basyo_list1[-1]\n",
    "print(basyo_list1)\n",
    "\n",
    "# 新たな目的地\n",
    "count_place2 = list(range(0,count_place))\n",
    "del count_place2[2:lunch_count+2]\n",
    "for i in basyo_list1:\n",
    "    count_place2.remove(i)\n",
    "count_place2.append(2)\n",
    "count_place2.sort()\n",
    "\n",
    "count_place2"
   ]
  },
  {
   "cell_type": "code",
   "execution_count": null,
   "metadata": {},
   "outputs": [],
   "source": [
    "start_place_time = (datetime.time(8,00),datetime.time(17,00))\n",
    "lim_time = (datetime.datetime.combine(datetime.date.today(), start_place_time[1])).seconds - \\\n",
    "    jikan-3600"
   ]
  },
  {
   "cell_type": "code",
   "execution_count": null,
   "metadata": {},
   "outputs": [],
   "source": [
    "start_place_time = (datetime.time(8,00),datetime.time(17,00))\n",
    "lim_time = datetime.datetime.combine(datetime.date.today(), start_place_time[1]).seconds - \\\n",
    "    jikan-3600\n",
    "count_place = customer_count\n",
    "lunch_count = 2\n",
    "\n",
    "count_remove_place = list(range(0,count_place))\n",
    "del count_remove_place[2:lunch_count+2]\n",
    "del count_remove_place[0]\n",
    "    \n",
    "\n",
    "print(count_remove_place)\n",
    "\n",
    "# 問題の宣言\n",
    "problem = pulp.LpProblem(\"CVRP\", pulp.LpMaximize)\n",
    "\n",
    "# 決定変数\n",
    "x = [[pulp.LpVariable(\"x%s_%s\"%(i,j), cat=\"Binary\") if i != j else None for j in range(count_place)] for i in range(count_place)]\n",
    "\n",
    "# 目的関数\n",
    "# なるたけ訪れる地点を多くする\n",
    "problem += pulp.lpSum(x[i][j] if i != j else 0\n",
    "                        for j in range(count_place) for i in range (count_place))\n",
    "\n",
    "\n",
    "# 制約\n",
    "# (2)式，各地点に訪れるのは１回を超えてはならない\n",
    "for j in range(1, count_place):\n",
    "    problem += pulp.lpSum(x[i][j] if i != j else 0 for i in range(count_place)) <= 1 \n",
    "\n",
    "#(3)式, 出発地から始まり，指定した昼ご飯の場所に到着する\n",
    "\n",
    "# 出発地から必ず出る\n",
    "problem += pulp.lpSum(x[0][j] for j in range(1,count_place)) == 1\n",
    "# 指定した昼ご飯の場所に到着する\n",
    "problem += pulp.lpSum(x[i][k] for i in range(count_place) for k in range(2,lunch_count + 2)) == 1         #############ここを変える\n",
    "problem += pulp.lpSum(x[k][j] for j in range(count_place) for k in range(2,lunch_count + 2)) == 0         #############ここを変える\n",
    "\n",
    "problem += pulp.lpSum(x[i][0] for i in range(1,count_place)) == 0\n",
    "\n",
    "#(4)式, 出発到着地点以外の箇所に対し入出の数が同じ\n",
    "\n",
    "for j in count_remove_place:         #############ここを変える\n",
    "    problem += pulp.lpSum(x[i][j] if i != j else 0 for i in range(count_place)) -  pulp.lpSum(x[j][i] for i in range(count_place)) == 0\n",
    "\n",
    "#(5)式, 時間制約を越えない\n",
    "\n",
    "problem += pulp.lpSum((3600 + cost[i][j]) * x[i][j]if i != j else 0 for i in range(count_place) for j in range (1,count_place)) <= lim_time +7200\n",
    "problem += pulp.lpSum((3600 + cost[i][j]) * x[i][j]if i != j else 0 for i in range(count_place) for j in range (1,count_place)) >= lim_time +3600\n",
    "\n",
    "#(6)式, 部分巡回路除去制約\n",
    "subtours = []\n",
    "for i in range(2,count_place):\n",
    "        subtours += itertools.combinations(range(1,count_place), i)\n",
    "\n",
    "for s in subtours:\n",
    "    problem += pulp.lpSum(x[i][j] if i !=j else 0 for i, j in itertools.permutations(s,2)) <= len(s) - 1\n",
    "\n",
    "\n",
    "if problem.solve() == 1:\n",
    "    print('目的関数値:', pulp.value(problem.objective))\n",
    "    print(problem)"
   ]
  }
 ],
 "metadata": {
  "kernelspec": {
   "display_name": "only-pip",
   "language": "python",
   "name": "python3"
  },
  "language_info": {
   "codemirror_mode": {
    "name": "ipython",
    "version": 3
   },
   "file_extension": ".py",
   "mimetype": "text/x-python",
   "name": "python",
   "nbconvert_exporter": "python",
   "pygments_lexer": "ipython3",
   "version": "3.11.3"
  }
 },
 "nbformat": 4,
 "nbformat_minor": 2
}
