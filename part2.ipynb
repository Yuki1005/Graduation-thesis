{
 "cells": [
  {
   "cell_type": "code",
   "execution_count": 73,
   "metadata": {},
   "outputs": [],
   "source": [
    "import numpy as np\n",
    "import pandas as pd\n",
    "import itertools\n",
    "import folium\n",
    "import time\n",
    "import openrouteservice as ors\n",
    "import sys\n",
    "import urllib.parse\n",
    "import pulp\n",
    "import datetime"
   ]
  },
  {
   "cell_type": "code",
   "execution_count": 74,
   "metadata": {},
   "outputs": [
    {
     "name": "stdout",
     "output_type": "stream",
     "text": [
      "[['長津田駅', 35.5319589, 139.49173], ['河口湖ビジネス&リゾート+サワホテル', 35.4946247, 138.7589732], ['Bakery&Table+箱根（ベーカリー＆テーブル）', 35.2001708, 139.0321096], ['うなぎ+桜家', 35.1191933, 138.9138269], ['箱根神社', 35.2040652, 139.0266838], ['大涌谷', 35.2414681, 139.0227329], ['早雲山駅', 35.2459732, 139.0357894], ['箱根ガラスの森美術館', 35.2609093, 139.0183711], ['三嶋大社', 35.1195374, 138.9178982], ['三島スカイウォーク', 35.1547315, 138.9820768]]\n",
      "    出発地点  行先  移動時間[s]\n",
      "0      0   1   4969.9\n",
      "1      0   2   4580.9\n",
      "2      0   3   4332.1\n",
      "3      0   4   4617.9\n",
      "4      0   6   4270.1\n",
      "..   ...  ..      ...\n",
      "59     9   3    654.5\n",
      "60     9   4   1204.5\n",
      "61     9   6   1643.3\n",
      "62     9   7   1925.7\n",
      "63     9   8    641.1\n",
      "\n",
      "[64 rows x 3 columns]\n"
     ]
    },
    {
     "data": {
      "text/plain": [
       "array([[8.6401e+04, 4.9699e+03, 4.5809e+03, 4.3321e+03, 4.6179e+03,\n",
       "        8.6401e+04, 4.2701e+03, 4.0214e+03, 4.3665e+03, 4.7723e+03],\n",
       "       [4.9699e+03, 8.6401e+04, 3.4610e+03, 2.8882e+03, 3.5799e+03,\n",
       "        8.6401e+04, 2.8957e+03, 2.6471e+03, 2.9226e+03, 3.2084e+03],\n",
       "       [4.5809e+03, 3.4610e+03, 8.6401e+04, 1.4439e+03, 3.1190e+02,\n",
       "        8.6401e+04, 6.2470e+02, 9.0710e+02, 1.4305e+03, 1.1055e+03],\n",
       "       [4.3321e+03, 2.8882e+03, 1.4439e+03, 8.6401e+04, 1.6517e+03,\n",
       "        8.6401e+04, 1.9816e+03, 2.0352e+03, 3.4400e+01, 6.5450e+02],\n",
       "       [4.6179e+03, 3.5799e+03, 3.1190e+02, 1.6517e+03, 8.6401e+04,\n",
       "        8.6401e+04, 6.6170e+02, 9.4410e+02, 1.5295e+03, 1.2045e+03],\n",
       "       [8.6401e+04, 8.6401e+04, 8.6401e+04, 8.6401e+04, 8.6401e+04,\n",
       "        8.6401e+04, 8.6401e+04, 8.6401e+04, 8.6401e+04, 8.6401e+04],\n",
       "       [4.2701e+03, 2.8957e+03, 6.2470e+02, 1.9816e+03, 6.6170e+02,\n",
       "        8.6401e+04, 8.6401e+04, 3.4190e+02, 1.9683e+03, 1.6433e+03],\n",
       "       [4.0214e+03, 2.6471e+03, 9.0710e+02, 2.0352e+03, 9.4410e+02,\n",
       "        8.6401e+04, 3.4190e+02, 8.6401e+04, 2.0724e+03, 1.9257e+03],\n",
       "       [4.3665e+03, 2.9226e+03, 1.4305e+03, 3.4400e+01, 1.5295e+03,\n",
       "        8.6401e+04, 1.9683e+03, 2.0724e+03, 8.6401e+04, 6.4110e+02],\n",
       "       [4.7723e+03, 3.2084e+03, 1.1055e+03, 6.5450e+02, 1.2045e+03,\n",
       "        8.6401e+04, 1.6433e+03, 1.9257e+03, 6.4110e+02, 8.6401e+04]])"
      ]
     },
     "execution_count": 74,
     "metadata": {},
     "output_type": "execute_result"
    }
   ],
   "source": [
    "tfr_time = pd.read_csv(\"time1.csv\")\n",
    "tfr_list = pd.read_csv(\"test1.csv\")\n",
    "place_list = tfr_list.to_numpy().tolist()\n",
    "print(place_list)\n",
    "\n",
    "customer_count = len(place_list)\n",
    "loc_loc_time = tfr_time.to_numpy().tolist()\n",
    "num_places_time = len(tfr_time)\n",
    "\n",
    "print(tfr_time)\n",
    "cost = [[86401 for i in range(customer_count)] for j in range(customer_count)]\n",
    "for i in range(num_places_time):\n",
    "    cost[int(loc_loc_time[i][0])][int(loc_loc_time[i][1])] = float(loc_loc_time[i][2])\n",
    "    cost[int(loc_loc_time[i][1])][int(loc_loc_time[i][0])] = float(loc_loc_time[i][2])\n",
    "cost = np.array(cost)\n",
    "cost"
   ]
  },
  {
   "cell_type": "code",
   "execution_count": 75,
   "metadata": {},
   "outputs": [
    {
     "name": "stdout",
     "output_type": "stream",
     "text": [
      "[0, 1, 2, 3, 4, 5, 6, 7, 8, 9]\n",
      "[1, 4, 5, 6, 7, 8, 9] [0, 4, 5, 6, 7, 8, 9]\n",
      "目的関数値: 7.0\n"
     ]
    }
   ],
   "source": [
    "start_place_time = (datetime.time(5,00),datetime.time(23,00))\n",
    "lunch_time = datetime.time(12,00)\n",
    "lim_time = (lunch_time.hour *60 + lunch_time.minute) *60 - (start_place_time[0].hour *60 + start_place_time[0].minute) *60\n",
    "lim_time3 = (start_place_time[1].hour *60 + start_place_time[1].minute) *60 - (start_place_time[0].hour *60 + start_place_time[0].minute) *60\n",
    "count_place = customer_count\n",
    "lunch_count = 2\n",
    "\n",
    "count_remove_place1 = list(range(0,count_place))\n",
    "print(count_remove_place1)\n",
    "del count_remove_place1[2:lunch_count+2]\n",
    "count_remove_place2 = count_remove_place1.copy()\n",
    "del count_remove_place1[0]\n",
    "del count_remove_place2[1]\n",
    "\n",
    "print(count_remove_place1,count_remove_place2)\n",
    "\n",
    "# 問題の宣言\n",
    "problem = pulp.LpProblem(\"CVRP\", pulp.LpMaximize)\n",
    "\n",
    "# 決定変数\n",
    "x = [[[pulp.LpVariable(\"x%s_%s,%s\"%(i,j,k), cat=\"Binary\") \\\n",
    "       if i != j else None for k in range(2)]for j in range(count_place)] for i in range(count_place)]\n",
    "\n",
    "# 目的関数\n",
    "problem += pulp.lpSum(x[i][j][k] if i != j else 0\n",
    "                        for k in range(2) for j in range(count_place) for i in range (count_place))\n",
    "\n",
    "# 制約\n",
    "# (2)式，各顧客の場所に訪れるのは1台の車両で1度である\n",
    "for j in range(count_place):\n",
    "    problem += pulp.lpSum(x[i][j][k] if i != j else 0 for i in range(count_place) for k in range(2)) <= 1 \n",
    "    problem += pulp.lpSum(x[j][i][k] if i != j else 0 for i in range(count_place) for k in range(2)) <= 1 \n",
    "\n",
    "#(3)式, depotから出発して，depotに戻ってくる\n",
    "\n",
    "# 出発地から必ず出る\n",
    "problem += pulp.lpSum(x[0][j][0] for j in range(count_place)) == 1\n",
    "problem += pulp.lpSum(x[i][0][0] for i in range(count_place)) == 0\n",
    "problem += pulp.lpSum(x[i][1][0] for i in range(count_place)) == 0\n",
    "\n",
    "problem += pulp.lpSum(x[1][j][1] for j in range(count_place)) == 0\n",
    "problem += pulp.lpSum(x[i][1][1] for i in range(count_place)) == 1\n",
    "\n",
    "# 指定した昼ご飯の場所に到着する\n",
    "problem += pulp.lpSum(x[i][j][0] for i in range(count_place) for j in range(2,lunch_count + 2)) == 1\n",
    "problem += pulp.lpSum(x[i][j][0] for j in range(count_place) for i in range(2,lunch_count + 2)) == 0\n",
    "\n",
    "problem += pulp.lpSum(x[i][j][1] for i in range(2,count_place) for j in range(2,lunch_count + 2)) == 0\n",
    "problem += pulp.lpSum(x[i][j][1] for j in range(2,count_place) for i in range(2,lunch_count + 2)) == 1\n",
    "\n",
    "# 午前の最後と午後の最初は一緒\n",
    "for l in range(2,lunch_count + 2):\n",
    "    problem += pulp.lpSum(x[l][j][1] for j in range(2,count_place)) - pulp.lpSum(x[i][l][0] for i in range(count_place)) == 0\n",
    "\n",
    "#(4)式, ある顧客の所に来る車両数と出る車両数が同じ\n",
    "for j in count_remove_place1:\n",
    "    problem += pulp.lpSum(x[i][j][0] if i != j else 0 for i in range(count_place)) -  pulp.lpSum(x[j][i][0] for i in range(count_place)) == 0\n",
    "for j in count_remove_place2:\n",
    "    problem += pulp.lpSum(x[i][j][1] if i != j else 0 for i in range(count_place)) -  pulp.lpSum(x[j][i][1] for i in range(count_place)) == 0\n",
    "\n",
    "#(5)式, 各車両において最大容量を超えない\n",
    "problem += pulp.lpSum((3600 + cost[i][j]) * x[i][j][0] if i != j else 0 for i in range(count_place) for j in range (1,count_place)) <= lim_time +7200\n",
    "problem += pulp.lpSum((3600 + cost[i][j]) * x[i][j][0] if i != j else 0 for i in range(count_place) for j in range (1,count_place)) >= lim_time +3600\n",
    "\n",
    "problem += pulp.lpSum((3600 + cost[i][j]) * x[i][j][1] if i != j else 0 for i in range(count_place) for j in range (1,count_place)) + \\\n",
    "    pulp.lpSum((3600 + cost[i][j]) * x[i][j][0] if i != j else 0 for i in range(count_place) for j in range (1,count_place)) <= lim_time3 +3600\n",
    "\n",
    "\n",
    "#(6)式, 部分巡回路除去制約\n",
    "subtours = []\n",
    "for i in range(2,count_place):\n",
    "        subtours += itertools.combinations(range(1,count_place), i)\n",
    "\n",
    "for s in subtours:\n",
    "    problem += pulp.lpSum(x[i][j][k] if i !=j else 0 for i, j in itertools.permutations(s,2) for k in range(2)) <= len(s) - 1\n",
    "\n",
    "#最適化問題を解く\n",
    "#最適解が出たら終了\n",
    "if problem.solve() == 1:\n",
    "    print('目的関数値:', pulp.value(problem.objective))\n",
    "else:\n",
    "    print(problem)"
   ]
  },
  {
   "cell_type": "code",
   "execution_count": 76,
   "metadata": {},
   "outputs": [
    {
     "name": "stdout",
     "output_type": "stream",
     "text": [
      "0\n",
      "0 9\n",
      "4 3\n",
      "7 8\n",
      "8 4\n",
      "9 7\n",
      "1\n",
      "3 6\n",
      "6 1\n",
      "[[0, 9], [4, 3], [7, 8], [8, 4], [9, 7], [3, 6], [6, 1]]\n",
      "~ 18 \n",
      "最適化 10.674694444444444\n",
      "38428.9\n"
     ]
    },
    {
     "data": {
      "text/plain": [
       "[0, 9, 7, 8, 4, 3, 6, 1]"
      ]
     },
     "execution_count": 76,
     "metadata": {},
     "output_type": "execute_result"
    }
   ],
   "source": [
    "basyo_num_list = []\n",
    "basyo_list = [0]\n",
    "jikan = 0\n",
    "\n",
    "for k in range(2):\n",
    "    print(k)\n",
    "    for i in range(count_place):\n",
    "        for j in range(count_place):\n",
    "            if i != j and pulp.value(x[i][j][k]) == 1:\n",
    "                print(i,j)\n",
    "                jikan += 3600 + cost[i][j]\n",
    "                basyo_num_list.append([i,j])\n",
    "\n",
    "\n",
    "print(basyo_num_list)\n",
    "print(\"~\",start_place_time[1].hour - start_place_time[0].hour,\"\\n最適化\",(jikan-3600)/3600)\n",
    "\n",
    "print(jikan-3600)\n",
    "for i in range(len(basyo_num_list)):\n",
    "    for j in range(len(basyo_num_list)):\n",
    "        if basyo_num_list[j][0] == basyo_list[-1]:\n",
    "            basyo_list.append(basyo_num_list[j][1])\n",
    "basyo_list"
   ]
  },
  {
   "cell_type": "code",
   "execution_count": null,
   "metadata": {},
   "outputs": [],
   "source": []
  }
 ],
 "metadata": {
  "kernelspec": {
   "display_name": "only-pip",
   "language": "python",
   "name": "python3"
  },
  "language_info": {
   "codemirror_mode": {
    "name": "ipython",
    "version": 3
   },
   "file_extension": ".py",
   "mimetype": "text/x-python",
   "name": "python",
   "nbconvert_exporter": "python",
   "pygments_lexer": "ipython3",
   "version": "3.11.3"
  }
 },
 "nbformat": 4,
 "nbformat_minor": 2
}
