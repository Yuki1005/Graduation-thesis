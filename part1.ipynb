{
 "cells": [
  {
   "cell_type": "code",
   "execution_count": 3,
   "metadata": {},
   "outputs": [],
   "source": [
    "import numpy as np\n",
    "import pandas as pd\n",
    "import itertools\n",
    "import folium\n",
    "import time\n",
    "from openrouteservice import *\n",
    "import sys\n",
    "import urllib.parse"
   ]
  },
  {
   "cell_type": "code",
   "execution_count": 1,
   "metadata": {},
   "outputs": [],
   "source": [
    "ors_key = \"5b3ce3597851110001cf624804ffaeec7cd246038d01eb4d3a32f633\"\n",
    "ors_boot = Client(ors_key)\n",
    "\n",
    "for i in range():\n",
    "    pos_1 = \"35.5212561\" , \"139.4921609\"\n",
    "    pos_2 = \"35.196344\" , \"139.0247288\"\n",
    "    p1r = tuple(reversed(pos_1))\n",
    "    p2r = tuple(reversed(pos_2))\n",
    "    \n",
    "    route_rslt = ors_boot.directions((p1r,p2r),profile = \"driving-car\")\n",
    "    tfr_time = route_rslt[\"routes\"][0][\"summary\"][\"duration\"]"
   ]
  }
 ],
 "metadata": {
  "kernelspec": {
   "display_name": "only-pip",
   "language": "python",
   "name": "python3"
  },
  "language_info": {
   "codemirror_mode": {
    "name": "ipython",
    "version": 3
   },
   "file_extension": ".py",
   "mimetype": "text/x-python",
   "name": "python",
   "nbconvert_exporter": "python",
   "pygments_lexer": "ipython3",
   "version": "3.11.3"
  }
 },
 "nbformat": 4,
 "nbformat_minor": 2
}
